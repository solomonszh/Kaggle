{
 "cells": [
  {
   "cell_type": "code",
   "execution_count": 89,
   "metadata": {
    "ExecuteTime": {
     "end_time": "2020-01-28T12:02:08.579052Z",
     "start_time": "2020-01-28T12:02:08.571092Z"
    }
   },
   "outputs": [],
   "source": [
    "def Remove(sets, number): \n",
    "    sets.discard(number) \n",
    "    return (sets) "
   ]
  },
  {
   "cell_type": "code",
   "execution_count": 94,
   "metadata": {
    "ExecuteTime": {
     "end_time": "2020-01-28T12:04:26.437310Z",
     "start_time": "2020-01-28T12:04:26.433616Z"
    }
   },
   "outputs": [],
   "source": [
    "list = [3,3,3,3,3,1,3]"
   ]
  },
  {
   "cell_type": "code",
   "execution_count": 95,
   "metadata": {
    "ExecuteTime": {
     "end_time": "2020-01-28T12:04:27.248791Z",
     "start_time": "2020-01-28T12:04:27.241451Z"
    }
   },
   "outputs": [],
   "source": [
    "size_set = set(list)"
   ]
  },
  {
   "cell_type": "code",
   "execution_count": 85,
   "metadata": {
    "ExecuteTime": {
     "end_time": "2020-01-28T12:00:23.284903Z",
     "start_time": "2020-01-28T12:00:23.277241Z"
    }
   },
   "outputs": [],
   "source": [
    "biggest_group = max(size_set)"
   ]
  },
  {
   "cell_type": "code",
   "execution_count": null,
   "metadata": {},
   "outputs": [],
   "source": [
    "num = len(list)"
   ]
  },
  {
   "cell_type": "code",
   "execution_count": 87,
   "metadata": {
    "ExecuteTime": {
     "end_time": "2020-01-28T12:01:03.440543Z",
     "start_time": "2020-01-28T12:01:03.428009Z"
    }
   },
   "outputs": [
    {
     "data": {
      "text/plain": [
       "1"
      ]
     },
     "execution_count": 87,
     "metadata": {},
     "output_type": "execute_result"
    }
   ],
   "source": [
    "num - (biggest_group * (num//biggest_group))"
   ]
  },
  {
   "cell_type": "code",
   "execution_count": 90,
   "metadata": {
    "ExecuteTime": {
     "end_time": "2020-01-28T12:02:18.286588Z",
     "start_time": "2020-01-28T12:02:18.278262Z"
    }
   },
   "outputs": [],
   "source": [
    "size_set = Remove(size_set, biggest_group)"
   ]
  },
  {
   "cell_type": "code",
   "execution_count": 96,
   "metadata": {
    "ExecuteTime": {
     "end_time": "2020-01-28T12:04:28.888438Z",
     "start_time": "2020-01-28T12:04:28.881443Z"
    }
   },
   "outputs": [],
   "source": [
    "groups = 0"
   ]
  },
  {
   "cell_type": "code",
   "execution_count": 125,
   "metadata": {
    "ExecuteTime": {
     "end_time": "2020-01-28T12:17:06.841265Z",
     "start_time": "2020-01-28T12:17:06.830145Z"
    }
   },
   "outputs": [],
   "source": [
    "def groups_num(input):\n",
    "    size_set = set(input)\n",
    "    size_dict = dict.fromkeys(set(input), 0)\n",
    "    groups = 0\n",
    "    num = len(list)\n",
    "    for i in range(len(size_set)):\n",
    "        biggest_group = max(size_set)\n",
    "        #print(biggest_group)\n",
    "        size_dict[biggest_group] = num//biggest_group\n",
    "        #groups += num//biggest_group\n",
    "        num = num - (biggest_group * (num//biggest_group))\n",
    "        #print(num)\n",
    "        size_set = Remove(size_set, biggest_group)\n",
    "        #print(size_set)\n",
    "    return size_dict"
   ]
  },
  {
   "cell_type": "code",
   "execution_count": 128,
   "metadata": {
    "ExecuteTime": {
     "end_time": "2020-01-28T12:20:20.578148Z",
     "start_time": "2020-01-28T12:20:20.571086Z"
    }
   },
   "outputs": [],
   "source": [
    "size_dict = groups_num(list)"
   ]
  },
  {
   "cell_type": "code",
   "execution_count": 131,
   "metadata": {
    "ExecuteTime": {
     "end_time": "2020-01-28T12:20:51.562317Z",
     "start_time": "2020-01-28T12:20:51.553305Z"
    }
   },
   "outputs": [
    {
     "data": {
      "text/plain": [
       "{1: 1, 3: 2}"
      ]
     },
     "execution_count": 131,
     "metadata": {},
     "output_type": "execute_result"
    }
   ],
   "source": [
    "size_dict"
   ]
  },
  {
   "cell_type": "code",
   "execution_count": 150,
   "metadata": {
    "ExecuteTime": {
     "end_time": "2020-01-28T12:30:29.188524Z",
     "start_time": "2020-01-28T12:30:29.179077Z"
    }
   },
   "outputs": [],
   "source": [
    "input = [0,1,2,3,4,5,6]"
   ]
  },
  {
   "cell_type": "code",
   "execution_count": 136,
   "metadata": {
    "ExecuteTime": {
     "end_time": "2020-01-28T12:22:36.843557Z",
     "start_time": "2020-01-28T12:22:36.835278Z"
    }
   },
   "outputs": [
    {
     "name": "stdout",
     "output_type": "stream",
     "text": [
      "0\n",
      "0\n",
      "1\n"
     ]
    }
   ],
   "source": [
    "for key, value in size_dict.items():\n",
    "    for i in range(value):\n",
    "        print(i)\n",
    "    #print(key)\n",
    "    #print(value)"
   ]
  },
  {
   "cell_type": "code",
   "execution_count": 142,
   "metadata": {
    "ExecuteTime": {
     "end_time": "2020-01-28T12:27:12.036727Z",
     "start_time": "2020-01-28T12:27:12.028934Z"
    }
   },
   "outputs": [],
   "source": [
    "num = 0"
   ]
  },
  {
   "cell_type": "code",
   "execution_count": 141,
   "metadata": {
    "ExecuteTime": {
     "end_time": "2020-01-28T12:26:40.018717Z",
     "start_time": "2020-01-28T12:26:40.009305Z"
    }
   },
   "outputs": [
    {
     "data": {
      "text/plain": [
       "[0, 1]"
      ]
     },
     "execution_count": 141,
     "metadata": {},
     "output_type": "execute_result"
    }
   ],
   "source": [
    "input[0:2]"
   ]
  },
  {
   "cell_type": "code",
   "execution_count": 167,
   "metadata": {
    "ExecuteTime": {
     "end_time": "2020-01-28T12:41:17.468935Z",
     "start_time": "2020-01-28T12:41:17.456592Z"
    }
   },
   "outputs": [
    {
     "name": "stdout",
     "output_type": "stream",
     "text": [
      "[[0], [1, 2, 3], [4], [5, 6, 7], [8], [9, 10, 11]]\n"
     ]
    }
   ],
   "source": [
    "master_list = []\n",
    "num = 0\n",
    "for key, value in size_dict.items():\n",
    "    temp_list = []\n",
    "    for i in range(key):\n",
    "        temp_list.append(num)\n",
    "        #print(temp_list)\n",
    "        num += 1\n",
    "        #print(key)\n",
    "        #print(value)\n",
    "    master_list.append(temp_list)\n",
    "\n",
    "print(master_list)"
   ]
  },
  {
   "cell_type": "code",
   "execution_count": 172,
   "metadata": {
    "ExecuteTime": {
     "end_time": "2020-01-28T12:48:58.097240Z",
     "start_time": "2020-01-28T12:48:58.083197Z"
    }
   },
   "outputs": [
    {
     "name": "stdout",
     "output_type": "stream",
     "text": [
      "1\n",
      "2\n",
      "[[0], [1, 2]]\n"
     ]
    }
   ],
   "source": [
    "master_list = []\n",
    "num = 0\n",
    "for key, value in size_dict.items():\n",
    "    print(size_dict[key])\n",
    "    temp_list = []\n",
    "    for x in range(size_dict[key]):\n",
    "        temp_list.append(num)\n",
    "#         temp_list.append(num)\n",
    "        #print(temp_list)\n",
    "        num += 1\n",
    "        #print(key)\n",
    "        #print(value)\n",
    "    master_list.append(temp_list)\n",
    "\n",
    "print(master_list)"
   ]
  },
  {
   "cell_type": "code",
   "execution_count": null,
   "metadata": {},
   "outputs": [],
   "source": [
    "[0], [1,2,3], [4,5,6]"
   ]
  }
 ],
 "metadata": {
  "kernelspec": {
   "display_name": "Python 3",
   "language": "python",
   "name": "python3"
  },
  "language_info": {
   "codemirror_mode": {
    "name": "ipython",
    "version": 3
   },
   "file_extension": ".py",
   "mimetype": "text/x-python",
   "name": "python",
   "nbconvert_exporter": "python",
   "pygments_lexer": "ipython3",
   "version": "3.7.4"
  },
  "toc": {
   "base_numbering": 1,
   "nav_menu": {},
   "number_sections": true,
   "sideBar": true,
   "skip_h1_title": false,
   "title_cell": "Table of Contents",
   "title_sidebar": "Contents",
   "toc_cell": false,
   "toc_position": {},
   "toc_section_display": true,
   "toc_window_display": true
  }
 },
 "nbformat": 4,
 "nbformat_minor": 2
}
